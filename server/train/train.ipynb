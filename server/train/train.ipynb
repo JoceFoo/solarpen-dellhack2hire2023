{
 "cells": [
  {
   "cell_type": "code",
   "execution_count": 1,
   "metadata": {},
   "outputs": [],
   "source": [
    "# Import libraries\n",
    "\n",
    "import numpy as np # Data Manipulation\n",
    "import pandas as pd # Data Manipulation\n",
    "import matplotlib.pyplot as plt # Data Visualization\n",
    "import seaborn as sns # Data Visualization\n",
    "\n",
    "import os\n",
    "import warnings\n",
    "warnings.filterwarnings('ignore')"
   ]
  },
  {
   "cell_type": "code",
   "execution_count": 2,
   "metadata": {},
   "outputs": [],
   "source": [
    "df = pd.read_csv('HomeC.csv')"
   ]
  },
  {
   "cell_type": "code",
   "execution_count": 3,
   "metadata": {},
   "outputs": [
    {
     "name": "stdout",
     "output_type": "stream",
     "text": [
      "<class 'pandas.core.frame.DataFrame'>\n",
      "RangeIndex: 503911 entries, 0 to 503910\n",
      "Data columns (total 32 columns):\n",
      " #   Column               Non-Null Count   Dtype  \n",
      "---  ------               --------------   -----  \n",
      " 0   time                 503911 non-null  object \n",
      " 1   use [kW]             503910 non-null  float64\n",
      " 2   gen [kW]             503910 non-null  float64\n",
      " 3   House overall [kW]   503910 non-null  float64\n",
      " 4   Dishwasher [kW]      503910 non-null  float64\n",
      " 5   Furnace 1 [kW]       503910 non-null  float64\n",
      " 6   Furnace 2 [kW]       503910 non-null  float64\n",
      " 7   Home office [kW]     503910 non-null  float64\n",
      " 8   Fridge [kW]          503910 non-null  float64\n",
      " 9   Wine cellar [kW]     503910 non-null  float64\n",
      " 10  Garage door [kW]     503910 non-null  float64\n",
      " 11  Kitchen 12 [kW]      503910 non-null  float64\n",
      " 12  Kitchen 14 [kW]      503910 non-null  float64\n",
      " 13  Kitchen 38 [kW]      503910 non-null  float64\n",
      " 14  Barn [kW]            503910 non-null  float64\n",
      " 15  Well [kW]            503910 non-null  float64\n",
      " 16  Microwave [kW]       503910 non-null  float64\n",
      " 17  Living room [kW]     503910 non-null  float64\n",
      " 18  Solar [kW]           503910 non-null  float64\n",
      " 19  temperature          503910 non-null  float64\n",
      " 20  icon                 503910 non-null  object \n",
      " 21  humidity             503910 non-null  float64\n",
      " 22  visibility           503910 non-null  float64\n",
      " 23  summary              503910 non-null  object \n",
      " 24  apparentTemperature  503910 non-null  float64\n",
      " 25  pressure             503910 non-null  float64\n",
      " 26  windSpeed            503910 non-null  float64\n",
      " 27  cloudCover           503910 non-null  object \n",
      " 28  windBearing          503910 non-null  float64\n",
      " 29  precipIntensity      503910 non-null  float64\n",
      " 30  dewPoint             503910 non-null  float64\n",
      " 31  precipProbability    503910 non-null  float64\n",
      "dtypes: float64(28), object(4)\n",
      "memory usage: 123.0+ MB\n"
     ]
    }
   ],
   "source": [
    "df.info()"
   ]
  },
  {
   "cell_type": "code",
   "execution_count": 4,
   "metadata": {},
   "outputs": [
    {
     "data": {
      "text/plain": [
       "(503911, 32)"
      ]
     },
     "execution_count": 4,
     "metadata": {},
     "output_type": "execute_result"
    }
   ],
   "source": [
    "df.shape"
   ]
  },
  {
   "cell_type": "code",
   "execution_count": 5,
   "metadata": {},
   "outputs": [
    {
     "data": {
      "text/html": [
       "<div>\n",
       "<style scoped>\n",
       "    .dataframe tbody tr th:only-of-type {\n",
       "        vertical-align: middle;\n",
       "    }\n",
       "\n",
       "    .dataframe tbody tr th {\n",
       "        vertical-align: top;\n",
       "    }\n",
       "\n",
       "    .dataframe thead th {\n",
       "        text-align: right;\n",
       "    }\n",
       "</style>\n",
       "<table border=\"1\" class=\"dataframe\">\n",
       "  <thead>\n",
       "    <tr style=\"text-align: right;\">\n",
       "      <th></th>\n",
       "      <th>time</th>\n",
       "      <th>use [kW]</th>\n",
       "      <th>gen [kW]</th>\n",
       "      <th>House overall [kW]</th>\n",
       "      <th>Dishwasher [kW]</th>\n",
       "      <th>Furnace 1 [kW]</th>\n",
       "      <th>Furnace 2 [kW]</th>\n",
       "      <th>Home office [kW]</th>\n",
       "      <th>Fridge [kW]</th>\n",
       "      <th>Wine cellar [kW]</th>\n",
       "      <th>...</th>\n",
       "      <th>visibility</th>\n",
       "      <th>summary</th>\n",
       "      <th>apparentTemperature</th>\n",
       "      <th>pressure</th>\n",
       "      <th>windSpeed</th>\n",
       "      <th>cloudCover</th>\n",
       "      <th>windBearing</th>\n",
       "      <th>precipIntensity</th>\n",
       "      <th>dewPoint</th>\n",
       "      <th>precipProbability</th>\n",
       "    </tr>\n",
       "  </thead>\n",
       "  <tbody>\n",
       "    <tr>\n",
       "      <th>0</th>\n",
       "      <td>1451624400</td>\n",
       "      <td>0.932833</td>\n",
       "      <td>0.003483</td>\n",
       "      <td>0.932833</td>\n",
       "      <td>0.000033</td>\n",
       "      <td>0.020700</td>\n",
       "      <td>0.061917</td>\n",
       "      <td>0.442633</td>\n",
       "      <td>0.124150</td>\n",
       "      <td>0.006983</td>\n",
       "      <td>...</td>\n",
       "      <td>10.0</td>\n",
       "      <td>Clear</td>\n",
       "      <td>29.26</td>\n",
       "      <td>1016.91</td>\n",
       "      <td>9.18</td>\n",
       "      <td>cloudCover</td>\n",
       "      <td>282.0</td>\n",
       "      <td>0.0</td>\n",
       "      <td>24.4</td>\n",
       "      <td>0.0</td>\n",
       "    </tr>\n",
       "    <tr>\n",
       "      <th>1</th>\n",
       "      <td>1451624401</td>\n",
       "      <td>0.934333</td>\n",
       "      <td>0.003467</td>\n",
       "      <td>0.934333</td>\n",
       "      <td>0.000000</td>\n",
       "      <td>0.020717</td>\n",
       "      <td>0.063817</td>\n",
       "      <td>0.444067</td>\n",
       "      <td>0.124000</td>\n",
       "      <td>0.006983</td>\n",
       "      <td>...</td>\n",
       "      <td>10.0</td>\n",
       "      <td>Clear</td>\n",
       "      <td>29.26</td>\n",
       "      <td>1016.91</td>\n",
       "      <td>9.18</td>\n",
       "      <td>cloudCover</td>\n",
       "      <td>282.0</td>\n",
       "      <td>0.0</td>\n",
       "      <td>24.4</td>\n",
       "      <td>0.0</td>\n",
       "    </tr>\n",
       "    <tr>\n",
       "      <th>2</th>\n",
       "      <td>1451624402</td>\n",
       "      <td>0.931817</td>\n",
       "      <td>0.003467</td>\n",
       "      <td>0.931817</td>\n",
       "      <td>0.000017</td>\n",
       "      <td>0.020700</td>\n",
       "      <td>0.062317</td>\n",
       "      <td>0.446067</td>\n",
       "      <td>0.123533</td>\n",
       "      <td>0.006983</td>\n",
       "      <td>...</td>\n",
       "      <td>10.0</td>\n",
       "      <td>Clear</td>\n",
       "      <td>29.26</td>\n",
       "      <td>1016.91</td>\n",
       "      <td>9.18</td>\n",
       "      <td>cloudCover</td>\n",
       "      <td>282.0</td>\n",
       "      <td>0.0</td>\n",
       "      <td>24.4</td>\n",
       "      <td>0.0</td>\n",
       "    </tr>\n",
       "    <tr>\n",
       "      <th>3</th>\n",
       "      <td>1451624403</td>\n",
       "      <td>1.022050</td>\n",
       "      <td>0.003483</td>\n",
       "      <td>1.022050</td>\n",
       "      <td>0.000017</td>\n",
       "      <td>0.106900</td>\n",
       "      <td>0.068517</td>\n",
       "      <td>0.446583</td>\n",
       "      <td>0.123133</td>\n",
       "      <td>0.006983</td>\n",
       "      <td>...</td>\n",
       "      <td>10.0</td>\n",
       "      <td>Clear</td>\n",
       "      <td>29.26</td>\n",
       "      <td>1016.91</td>\n",
       "      <td>9.18</td>\n",
       "      <td>cloudCover</td>\n",
       "      <td>282.0</td>\n",
       "      <td>0.0</td>\n",
       "      <td>24.4</td>\n",
       "      <td>0.0</td>\n",
       "    </tr>\n",
       "    <tr>\n",
       "      <th>4</th>\n",
       "      <td>1451624404</td>\n",
       "      <td>1.139400</td>\n",
       "      <td>0.003467</td>\n",
       "      <td>1.139400</td>\n",
       "      <td>0.000133</td>\n",
       "      <td>0.236933</td>\n",
       "      <td>0.063983</td>\n",
       "      <td>0.446533</td>\n",
       "      <td>0.122850</td>\n",
       "      <td>0.006850</td>\n",
       "      <td>...</td>\n",
       "      <td>10.0</td>\n",
       "      <td>Clear</td>\n",
       "      <td>29.26</td>\n",
       "      <td>1016.91</td>\n",
       "      <td>9.18</td>\n",
       "      <td>cloudCover</td>\n",
       "      <td>282.0</td>\n",
       "      <td>0.0</td>\n",
       "      <td>24.4</td>\n",
       "      <td>0.0</td>\n",
       "    </tr>\n",
       "  </tbody>\n",
       "</table>\n",
       "<p>5 rows × 32 columns</p>\n",
       "</div>"
      ],
      "text/plain": [
       "         time  use [kW]  gen [kW]  House overall [kW]  Dishwasher [kW]  \\\n",
       "0  1451624400  0.932833  0.003483            0.932833         0.000033   \n",
       "1  1451624401  0.934333  0.003467            0.934333         0.000000   \n",
       "2  1451624402  0.931817  0.003467            0.931817         0.000017   \n",
       "3  1451624403  1.022050  0.003483            1.022050         0.000017   \n",
       "4  1451624404  1.139400  0.003467            1.139400         0.000133   \n",
       "\n",
       "   Furnace 1 [kW]  Furnace 2 [kW]  Home office [kW]  Fridge [kW]  \\\n",
       "0        0.020700        0.061917          0.442633     0.124150   \n",
       "1        0.020717        0.063817          0.444067     0.124000   \n",
       "2        0.020700        0.062317          0.446067     0.123533   \n",
       "3        0.106900        0.068517          0.446583     0.123133   \n",
       "4        0.236933        0.063983          0.446533     0.122850   \n",
       "\n",
       "   Wine cellar [kW]  ...  visibility  summary  apparentTemperature  pressure  \\\n",
       "0          0.006983  ...        10.0    Clear                29.26   1016.91   \n",
       "1          0.006983  ...        10.0    Clear                29.26   1016.91   \n",
       "2          0.006983  ...        10.0    Clear                29.26   1016.91   \n",
       "3          0.006983  ...        10.0    Clear                29.26   1016.91   \n",
       "4          0.006850  ...        10.0    Clear                29.26   1016.91   \n",
       "\n",
       "   windSpeed  cloudCover  windBearing  precipIntensity  dewPoint  \\\n",
       "0       9.18  cloudCover        282.0              0.0      24.4   \n",
       "1       9.18  cloudCover        282.0              0.0      24.4   \n",
       "2       9.18  cloudCover        282.0              0.0      24.4   \n",
       "3       9.18  cloudCover        282.0              0.0      24.4   \n",
       "4       9.18  cloudCover        282.0              0.0      24.4   \n",
       "\n",
       "   precipProbability  \n",
       "0                0.0  \n",
       "1                0.0  \n",
       "2                0.0  \n",
       "3                0.0  \n",
       "4                0.0  \n",
       "\n",
       "[5 rows x 32 columns]"
      ]
     },
     "execution_count": 5,
     "metadata": {},
     "output_type": "execute_result"
    }
   ],
   "source": [
    "df.head()"
   ]
  },
  {
   "cell_type": "code",
   "execution_count": 6,
   "metadata": {},
   "outputs": [
    {
     "data": {
      "text/html": [
       "<div>\n",
       "<style scoped>\n",
       "    .dataframe tbody tr th:only-of-type {\n",
       "        vertical-align: middle;\n",
       "    }\n",
       "\n",
       "    .dataframe tbody tr th {\n",
       "        vertical-align: top;\n",
       "    }\n",
       "\n",
       "    .dataframe thead th {\n",
       "        text-align: right;\n",
       "    }\n",
       "</style>\n",
       "<table border=\"1\" class=\"dataframe\">\n",
       "  <thead>\n",
       "    <tr style=\"text-align: right;\">\n",
       "      <th></th>\n",
       "      <th>time</th>\n",
       "      <th>use [kW]</th>\n",
       "      <th>gen [kW]</th>\n",
       "      <th>House overall [kW]</th>\n",
       "      <th>Dishwasher [kW]</th>\n",
       "      <th>Furnace 1 [kW]</th>\n",
       "      <th>Furnace 2 [kW]</th>\n",
       "      <th>Home office [kW]</th>\n",
       "      <th>Fridge [kW]</th>\n",
       "      <th>Wine cellar [kW]</th>\n",
       "      <th>...</th>\n",
       "      <th>visibility</th>\n",
       "      <th>summary</th>\n",
       "      <th>apparentTemperature</th>\n",
       "      <th>pressure</th>\n",
       "      <th>windSpeed</th>\n",
       "      <th>cloudCover</th>\n",
       "      <th>windBearing</th>\n",
       "      <th>precipIntensity</th>\n",
       "      <th>dewPoint</th>\n",
       "      <th>precipProbability</th>\n",
       "    </tr>\n",
       "  </thead>\n",
       "  <tbody>\n",
       "    <tr>\n",
       "      <th>503910</th>\n",
       "      <td>\\</td>\n",
       "      <td>NaN</td>\n",
       "      <td>NaN</td>\n",
       "      <td>NaN</td>\n",
       "      <td>NaN</td>\n",
       "      <td>NaN</td>\n",
       "      <td>NaN</td>\n",
       "      <td>NaN</td>\n",
       "      <td>NaN</td>\n",
       "      <td>NaN</td>\n",
       "      <td>...</td>\n",
       "      <td>NaN</td>\n",
       "      <td>NaN</td>\n",
       "      <td>NaN</td>\n",
       "      <td>NaN</td>\n",
       "      <td>NaN</td>\n",
       "      <td>NaN</td>\n",
       "      <td>NaN</td>\n",
       "      <td>NaN</td>\n",
       "      <td>NaN</td>\n",
       "      <td>NaN</td>\n",
       "    </tr>\n",
       "  </tbody>\n",
       "</table>\n",
       "<p>1 rows × 32 columns</p>\n",
       "</div>"
      ],
      "text/plain": [
       "       time  use [kW]  gen [kW]  House overall [kW]  Dishwasher [kW]  \\\n",
       "503910    \\       NaN       NaN                 NaN              NaN   \n",
       "\n",
       "        Furnace 1 [kW]  Furnace 2 [kW]  Home office [kW]  Fridge [kW]  \\\n",
       "503910             NaN             NaN               NaN          NaN   \n",
       "\n",
       "        Wine cellar [kW]  ...  visibility  summary  apparentTemperature  \\\n",
       "503910               NaN  ...         NaN      NaN                  NaN   \n",
       "\n",
       "        pressure  windSpeed  cloudCover  windBearing  precipIntensity  \\\n",
       "503910       NaN        NaN         NaN          NaN              NaN   \n",
       "\n",
       "        dewPoint  precipProbability  \n",
       "503910       NaN                NaN  \n",
       "\n",
       "[1 rows x 32 columns]"
      ]
     },
     "execution_count": 6,
     "metadata": {},
     "output_type": "execute_result"
    }
   ],
   "source": [
    "df[df.isnull().any(axis=1)]"
   ]
  },
  {
   "cell_type": "code",
   "execution_count": 7,
   "metadata": {},
   "outputs": [],
   "source": [
    "# remove row with NaN value\n",
    "df = df.dropna(axis=0)"
   ]
  },
  {
   "cell_type": "code",
   "execution_count": 8,
   "metadata": {},
   "outputs": [
    {
     "data": {
      "text/plain": [
       "(503910, 32)"
      ]
     },
     "execution_count": 8,
     "metadata": {},
     "output_type": "execute_result"
    }
   ],
   "source": [
    "df.shape"
   ]
  },
  {
   "cell_type": "code",
   "execution_count": 9,
   "metadata": {},
   "outputs": [
    {
     "data": {
      "text/plain": [
       "Index(['time', 'use [kW]', 'gen [kW]', 'House overall [kW]', 'Dishwasher [kW]',\n",
       "       'Furnace 1 [kW]', 'Furnace 2 [kW]', 'Home office [kW]', 'Fridge [kW]',\n",
       "       'Wine cellar [kW]', 'Garage door [kW]', 'Kitchen 12 [kW]',\n",
       "       'Kitchen 14 [kW]', 'Kitchen 38 [kW]', 'Barn [kW]', 'Well [kW]',\n",
       "       'Microwave [kW]', 'Living room [kW]', 'Solar [kW]', 'temperature',\n",
       "       'icon', 'humidity', 'visibility', 'summary', 'apparentTemperature',\n",
       "       'pressure', 'windSpeed', 'cloudCover', 'windBearing', 'precipIntensity',\n",
       "       'dewPoint', 'precipProbability'],\n",
       "      dtype='object')"
      ]
     },
     "execution_count": 9,
     "metadata": {},
     "output_type": "execute_result"
    }
   ],
   "source": [
    "df.columns"
   ]
  },
  {
   "cell_type": "code",
   "execution_count": 10,
   "metadata": {},
   "outputs": [
    {
     "data": {
      "text/plain": [
       "Index(['time', 'use', 'gen', 'House overall', 'Dishwasher', 'Furnace 1',\n",
       "       'Furnace 2', 'Home office', 'Fridge', 'Wine cellar', 'Garage door',\n",
       "       'Kitchen 12', 'Kitchen 14', 'Kitchen 38', 'Barn', 'Well', 'Microwave',\n",
       "       'Living room', 'Solar', 'temperature', 'icon', 'humidity', 'visibility',\n",
       "       'summary', 'apparentTemperature', 'pressure', 'windSpeed', 'cloudCover',\n",
       "       'windBearing', 'precipIntensity', 'dewPoint', 'precipProbability'],\n",
       "      dtype='object')"
      ]
     },
     "execution_count": 10,
     "metadata": {},
     "output_type": "execute_result"
    }
   ],
   "source": [
    "# Python string method replace() returns a copy of the string in which the occurrences of old have been replaced with new, optionally restricting the number of replacements to max.\n",
    "df.columns = [col.replace(' [kW]', '') for col in df.columns]\n",
    "df.columns"
   ]
  },
  {
   "cell_type": "code",
   "execution_count": 13,
   "metadata": {},
   "outputs": [
    {
     "data": {
      "text/plain": [
       "count    503910.000000\n",
       "mean          0.076229\n",
       "std           0.128428\n",
       "min           0.000000\n",
       "25%           0.003367\n",
       "50%           0.004283\n",
       "75%           0.083917\n",
       "max           0.613883\n",
       "Name: gen, dtype: float64"
      ]
     },
     "execution_count": 13,
     "metadata": {},
     "output_type": "execute_result"
    }
   ],
   "source": [
    "# check min max avg info of df[gen]\n",
    "df['gen'].describe()"
   ]
  },
  {
   "cell_type": "code",
   "execution_count": 14,
   "metadata": {},
   "outputs": [
    {
     "data": {
      "text/plain": [
       "count    503910.000000\n",
       "mean          0.858962\n",
       "std           1.058207\n",
       "min           0.000000\n",
       "25%           0.367667\n",
       "50%           0.562333\n",
       "75%           0.970250\n",
       "max          14.714567\n",
       "Name: use, dtype: float64"
      ]
     },
     "execution_count": 14,
     "metadata": {},
     "output_type": "execute_result"
    }
   ],
   "source": [
    "# check min max avg info of df[use]\n",
    "df['use'].describe()"
   ]
  },
  {
   "cell_type": "code",
   "execution_count": 7,
   "metadata": {},
   "outputs": [],
   "source": [
    "selected_columns = [\n",
    "    'use',\n",
    "    'gen',\n",
    "    'temperature', \n",
    "    'apparentTemperature', \n",
    "    'summary', \n",
    "    'pressure', \n",
    "    'windSpeed', \n",
    "    'windBearing', \n",
    "    'visibility', \n",
    "    'cloudCover'\n",
    "]\n",
    "\n",
    "df = df[selected_columns]"
   ]
  },
  {
   "cell_type": "code",
   "execution_count": 8,
   "metadata": {},
   "outputs": [
    {
     "data": {
      "text/plain": [
       "Index(['use', 'gen', 'temperature', 'apparentTemperature', 'summary',\n",
       "       'pressure', 'windSpeed', 'windBearing', 'visibility', 'cloudCover'],\n",
       "      dtype='object')"
      ]
     },
     "execution_count": 8,
     "metadata": {},
     "output_type": "execute_result"
    }
   ],
   "source": [
    "df.columns"
   ]
  },
  {
   "cell_type": "code",
   "execution_count": 9,
   "metadata": {},
   "outputs": [
    {
     "data": {
      "text/html": [
       "<div>\n",
       "<style scoped>\n",
       "    .dataframe tbody tr th:only-of-type {\n",
       "        vertical-align: middle;\n",
       "    }\n",
       "\n",
       "    .dataframe tbody tr th {\n",
       "        vertical-align: top;\n",
       "    }\n",
       "\n",
       "    .dataframe thead th {\n",
       "        text-align: right;\n",
       "    }\n",
       "</style>\n",
       "<table border=\"1\" class=\"dataframe\">\n",
       "  <thead>\n",
       "    <tr style=\"text-align: right;\">\n",
       "      <th></th>\n",
       "      <th>use</th>\n",
       "      <th>gen</th>\n",
       "      <th>temperature</th>\n",
       "      <th>apparentTemperature</th>\n",
       "      <th>summary</th>\n",
       "      <th>pressure</th>\n",
       "      <th>windSpeed</th>\n",
       "      <th>windBearing</th>\n",
       "      <th>visibility</th>\n",
       "      <th>cloudCover</th>\n",
       "    </tr>\n",
       "  </thead>\n",
       "  <tbody>\n",
       "    <tr>\n",
       "      <th>0</th>\n",
       "      <td>0.932833</td>\n",
       "      <td>0.003483</td>\n",
       "      <td>36.14</td>\n",
       "      <td>29.26</td>\n",
       "      <td>Clear</td>\n",
       "      <td>1016.91</td>\n",
       "      <td>9.18</td>\n",
       "      <td>282.0</td>\n",
       "      <td>10.0</td>\n",
       "      <td>cloudCover</td>\n",
       "    </tr>\n",
       "    <tr>\n",
       "      <th>1</th>\n",
       "      <td>0.934333</td>\n",
       "      <td>0.003467</td>\n",
       "      <td>36.14</td>\n",
       "      <td>29.26</td>\n",
       "      <td>Clear</td>\n",
       "      <td>1016.91</td>\n",
       "      <td>9.18</td>\n",
       "      <td>282.0</td>\n",
       "      <td>10.0</td>\n",
       "      <td>cloudCover</td>\n",
       "    </tr>\n",
       "    <tr>\n",
       "      <th>2</th>\n",
       "      <td>0.931817</td>\n",
       "      <td>0.003467</td>\n",
       "      <td>36.14</td>\n",
       "      <td>29.26</td>\n",
       "      <td>Clear</td>\n",
       "      <td>1016.91</td>\n",
       "      <td>9.18</td>\n",
       "      <td>282.0</td>\n",
       "      <td>10.0</td>\n",
       "      <td>cloudCover</td>\n",
       "    </tr>\n",
       "    <tr>\n",
       "      <th>3</th>\n",
       "      <td>1.022050</td>\n",
       "      <td>0.003483</td>\n",
       "      <td>36.14</td>\n",
       "      <td>29.26</td>\n",
       "      <td>Clear</td>\n",
       "      <td>1016.91</td>\n",
       "      <td>9.18</td>\n",
       "      <td>282.0</td>\n",
       "      <td>10.0</td>\n",
       "      <td>cloudCover</td>\n",
       "    </tr>\n",
       "    <tr>\n",
       "      <th>4</th>\n",
       "      <td>1.139400</td>\n",
       "      <td>0.003467</td>\n",
       "      <td>36.14</td>\n",
       "      <td>29.26</td>\n",
       "      <td>Clear</td>\n",
       "      <td>1016.91</td>\n",
       "      <td>9.18</td>\n",
       "      <td>282.0</td>\n",
       "      <td>10.0</td>\n",
       "      <td>cloudCover</td>\n",
       "    </tr>\n",
       "  </tbody>\n",
       "</table>\n",
       "</div>"
      ],
      "text/plain": [
       "        use       gen  temperature  apparentTemperature summary  pressure  \\\n",
       "0  0.932833  0.003483        36.14                29.26   Clear   1016.91   \n",
       "1  0.934333  0.003467        36.14                29.26   Clear   1016.91   \n",
       "2  0.931817  0.003467        36.14                29.26   Clear   1016.91   \n",
       "3  1.022050  0.003483        36.14                29.26   Clear   1016.91   \n",
       "4  1.139400  0.003467        36.14                29.26   Clear   1016.91   \n",
       "\n",
       "   windSpeed  windBearing  visibility  cloudCover  \n",
       "0       9.18        282.0        10.0  cloudCover  \n",
       "1       9.18        282.0        10.0  cloudCover  \n",
       "2       9.18        282.0        10.0  cloudCover  \n",
       "3       9.18        282.0        10.0  cloudCover  \n",
       "4       9.18        282.0        10.0  cloudCover  "
      ]
     },
     "execution_count": 9,
     "metadata": {},
     "output_type": "execute_result"
    }
   ],
   "source": [
    "df.head()"
   ]
  },
  {
   "cell_type": "code",
   "execution_count": 10,
   "metadata": {},
   "outputs": [
    {
     "name": "stdout",
     "output_type": "stream",
     "text": [
      "<class 'pandas.core.frame.DataFrame'>\n",
      "Int64Index: 503910 entries, 0 to 503909\n",
      "Data columns (total 10 columns):\n",
      " #   Column               Non-Null Count   Dtype  \n",
      "---  ------               --------------   -----  \n",
      " 0   use                  503910 non-null  float64\n",
      " 1   gen                  503910 non-null  float64\n",
      " 2   temperature          503910 non-null  float64\n",
      " 3   apparentTemperature  503910 non-null  float64\n",
      " 4   summary              503910 non-null  object \n",
      " 5   pressure             503910 non-null  float64\n",
      " 6   windSpeed            503910 non-null  float64\n",
      " 7   windBearing          503910 non-null  float64\n",
      " 8   visibility           503910 non-null  float64\n",
      " 9   cloudCover           503910 non-null  object \n",
      "dtypes: float64(8), object(2)\n",
      "memory usage: 42.3+ MB\n"
     ]
    }
   ],
   "source": [
    "df.info()"
   ]
  },
  {
   "cell_type": "code",
   "execution_count": 11,
   "metadata": {},
   "outputs": [
    {
     "data": {
      "text/plain": [
       "array(['cloudCover', '0.75', '0', '1', '0.31', '0.44', '0.13', '0.19',\n",
       "       '0.25', '0.16', '0.21', '0.15', '0.14', '0.27', '0.28', '0.17',\n",
       "       '0.05', '0.1', '0.26', '0.29', '0.11', '0.09', '0.12', '0.06',\n",
       "       '0.02', '0.08', '0.04', '0.35', '0.22', '0.23', '0.54', '0.39',\n",
       "       '0.03', '0.07', '0.76', '0.62', '0.18', '0.79', '0.48', '0.24',\n",
       "       '0.57', 0.24, 1.0, 0.31, 0.28, 0.15, 0.41, 0.1, 0.12, 0.08, 0.09,\n",
       "       0.19, 0.04, 0.05, 0.29, 0.27, 0.35, 0.18, 0.06, 0.03, 0.11, 0.14,\n",
       "       0.25, 0.78, 0.0, 0.16, 0.21, 0.23, 0.17, 0.75, 0.26, 0.2, 0.76,\n",
       "       0.13, 0.77, 0.46, 0.07, 0.55, 0.02, 0.01, 0.51, 0.47, 0.5, 0.4,\n",
       "       0.3, 0.22, 0.43, 0.33, 0.6, 0.68, 0.66, 0.45, 0.34, 0.52, 0.67,\n",
       "       0.48, 0.49, 0.39, 0.37, 0.62, 0.36, 0.79, 0.61, 0.38, 0.42, 0.53,\n",
       "       0.63, 0.44, 0.54, 0.32, 0.56, 0.58, 0.72, 0.57, 0.73, 0.71, 0.64,\n",
       "       0.59], dtype=object)"
      ]
     },
     "execution_count": 11,
     "metadata": {},
     "output_type": "execute_result"
    }
   ],
   "source": [
    "df['cloudCover'].unique()"
   ]
  },
  {
   "cell_type": "code",
   "execution_count": 12,
   "metadata": {},
   "outputs": [
    {
     "data": {
      "text/plain": [
       "(58, 10)"
      ]
     },
     "execution_count": 12,
     "metadata": {},
     "output_type": "execute_result"
    }
   ],
   "source": [
    "df[df['cloudCover']=='cloudCover'].shape"
   ]
  },
  {
   "cell_type": "code",
   "execution_count": 13,
   "metadata": {},
   "outputs": [],
   "source": [
    "df['cloudCover'].replace(['cloudCover'], method='bfill', inplace=True)\n",
    "df['cloudCover'] = df['cloudCover'].astype('float')"
   ]
  },
  {
   "cell_type": "code",
   "execution_count": 14,
   "metadata": {},
   "outputs": [
    {
     "data": {
      "image/png": "[encoded data removed]",
      "text/plain": [
       "<Figure size 720x720 with 2 Axes>"
      ]
     },
     "metadata": {
      "needs_background": "light"
     },
     "output_type": "display_data"
    }
   ],
   "source": [
    "#heatmap\n",
    "fig, ax = plt.subplots(figsize=(10,10))\n",
    "sns.heatmap(df.corr(), annot=True, fmt='.2f', ax=ax)\n",
    "plt.show()"
   ]
  },
  {
   "cell_type": "code",
   "execution_count": 21,
   "metadata": {},
   "outputs": [
    {
     "data": {
      "image/png": "[encoded data removed]",
      "text/plain": [
       "<Figure size 720x720 with 1 Axes>"
      ]
     },
     "metadata": {
      "needs_background": "light"
     },
     "output_type": "display_data"
    }
   ],
   "source": [
    "# create a plot of gen vs temperature\n",
    "plt.figure(figsize=(10,10))\n",
    "plt.scatter(df['gen'], df['temperature'])\n",
    "plt.xlabel('gen')\n",
    "plt.ylabel('temperature')\n",
    "plt.show()"
   ]
  },
  {
   "cell_type": "code",
   "execution_count": 22,
   "metadata": {},
   "outputs": [
    {
     "name": "stdout",
     "output_type": "stream",
     "text": [
      "<class 'pandas.core.frame.DataFrame'>\n",
      "Int64Index: 503910 entries, 0 to 503909\n",
      "Data columns (total 10 columns):\n",
      " #   Column               Non-Null Count   Dtype  \n",
      "---  ------               --------------   -----  \n",
      " 0   use                  503910 non-null  float64\n",
      " 1   gen                  503910 non-null  float64\n",
      " 2   temperature          503910 non-null  float64\n",
      " 3   apparentTemperature  503910 non-null  float64\n",
      " 4   summary              503910 non-null  object \n",
      " 5   pressure             503910 non-null  float64\n",
      " 6   windSpeed            503910 non-null  float64\n",
      " 7   windBearing          503910 non-null  float64\n",
      " 8   visibility           503910 non-null  float64\n",
      " 9   cloudCover           503910 non-null  float64\n",
      "dtypes: float64(9), object(1)\n",
      "memory usage: 42.3+ MB\n"
     ]
    }
   ],
   "source": [
    "df.info()"
   ]
  },
  {
   "cell_type": "code",
   "execution_count": 23,
   "metadata": {},
   "outputs": [
    {
     "data": {
      "text/plain": [
       "0              Clear\n",
       "1              Clear\n",
       "2              Clear\n",
       "3              Clear\n",
       "4              Clear\n",
       "             ...    \n",
       "503905    Light Rain\n",
       "503906    Light Rain\n",
       "503907    Light Rain\n",
       "503908    Light Rain\n",
       "503909    Light Rain\n",
       "Name: summary, Length: 503910, dtype: object"
      ]
     },
     "execution_count": 23,
     "metadata": {},
     "output_type": "execute_result"
    }
   ],
   "source": [
    "df['summary']"
   ]
  },
  {
   "cell_type": "code",
   "execution_count": 15,
   "metadata": {},
   "outputs": [],
   "source": [
    "# Label Encoding\n",
    "from sklearn.preprocessing import LabelEncoder\n",
    "\n",
    "le = LabelEncoder()\n",
    "# encode summary column\n",
    "df['summary'] = le.fit_transform(df['summary'])"
   ]
  },
  {
   "cell_type": "code",
   "execution_count": 16,
   "metadata": {},
   "outputs": [
    {
     "data": {
      "text/plain": [
       "0          3\n",
       "1          3\n",
       "2          3\n",
       "3          3\n",
       "4          3\n",
       "          ..\n",
       "503905    10\n",
       "503906    10\n",
       "503907    10\n",
       "503908    10\n",
       "503909    10\n",
       "Name: summary, Length: 503910, dtype: int32"
      ]
     },
     "execution_count": 16,
     "metadata": {},
     "output_type": "execute_result"
    }
   ],
   "source": [
    "#check the summary column\n",
    "df['summary']"
   ]
  },
  {
   "cell_type": "code",
   "execution_count": 17,
   "metadata": {},
   "outputs": [
    {
     "name": "stdout",
     "output_type": "stream",
     "text": [
      "<class 'pandas.core.frame.DataFrame'>\n",
      "Int64Index: 503910 entries, 0 to 503909\n",
      "Data columns (total 10 columns):\n",
      " #   Column               Non-Null Count   Dtype  \n",
      "---  ------               --------------   -----  \n",
      " 0   use                  503910 non-null  float64\n",
      " 1   gen                  503910 non-null  float64\n",
      " 2   temperature          503910 non-null  float64\n",
      " 3   apparentTemperature  503910 non-null  float64\n",
      " 4   summary              503910 non-null  int32  \n",
      " 5   pressure             503910 non-null  float64\n",
      " 6   windSpeed            503910 non-null  float64\n",
      " 7   windBearing          503910 non-null  float64\n",
      " 8   visibility           503910 non-null  float64\n",
      " 9   cloudCover           503910 non-null  float64\n",
      "dtypes: float64(9), int32(1)\n",
      "memory usage: 40.4 MB\n"
     ]
    }
   ],
   "source": [
    "df.info()"
   ]
  },
  {
   "cell_type": "code",
   "execution_count": 27,
   "metadata": {},
   "outputs": [
    {
     "data": {
      "text/html": [
       "<div>\n",
       "<style scoped>\n",
       "    .dataframe tbody tr th:only-of-type {\n",
       "        vertical-align: middle;\n",
       "    }\n",
       "\n",
       "    .dataframe tbody tr th {\n",
       "        vertical-align: top;\n",
       "    }\n",
       "\n",
       "    .dataframe thead th {\n",
       "        text-align: right;\n",
       "    }\n",
       "</style>\n",
       "<table border=\"1\" class=\"dataframe\">\n",
       "  <thead>\n",
       "    <tr style=\"text-align: right;\">\n",
       "      <th></th>\n",
       "      <th>use</th>\n",
       "      <th>gen</th>\n",
       "      <th>temperature</th>\n",
       "      <th>apparentTemperature</th>\n",
       "      <th>summary</th>\n",
       "      <th>pressure</th>\n",
       "      <th>windSpeed</th>\n",
       "      <th>windBearing</th>\n",
       "      <th>visibility</th>\n",
       "      <th>cloudCover</th>\n",
       "    </tr>\n",
       "  </thead>\n",
       "  <tbody>\n",
       "    <tr>\n",
       "      <th>count</th>\n",
       "      <td>503910.000000</td>\n",
       "      <td>503910.000000</td>\n",
       "      <td>503910.000000</td>\n",
       "      <td>503910.000000</td>\n",
       "      <td>503910.000000</td>\n",
       "      <td>503910.000000</td>\n",
       "      <td>503910.000000</td>\n",
       "      <td>503910.000000</td>\n",
       "      <td>503910.000000</td>\n",
       "      <td>503910.000000</td>\n",
       "    </tr>\n",
       "    <tr>\n",
       "      <th>mean</th>\n",
       "      <td>0.858962</td>\n",
       "      <td>0.076229</td>\n",
       "      <td>50.741935</td>\n",
       "      <td>48.263382</td>\n",
       "      <td>5.201260</td>\n",
       "      <td>1016.301625</td>\n",
       "      <td>6.649936</td>\n",
       "      <td>202.356843</td>\n",
       "      <td>9.253444</td>\n",
       "      <td>0.225945</td>\n",
       "    </tr>\n",
       "    <tr>\n",
       "      <th>std</th>\n",
       "      <td>1.058207</td>\n",
       "      <td>0.128428</td>\n",
       "      <td>19.113807</td>\n",
       "      <td>22.027916</td>\n",
       "      <td>4.168663</td>\n",
       "      <td>7.895185</td>\n",
       "      <td>3.982716</td>\n",
       "      <td>106.520474</td>\n",
       "      <td>1.611186</td>\n",
       "      <td>0.289945</td>\n",
       "    </tr>\n",
       "    <tr>\n",
       "      <th>min</th>\n",
       "      <td>0.000000</td>\n",
       "      <td>0.000000</td>\n",
       "      <td>-12.640000</td>\n",
       "      <td>-32.080000</td>\n",
       "      <td>0.000000</td>\n",
       "      <td>986.400000</td>\n",
       "      <td>0.000000</td>\n",
       "      <td>0.000000</td>\n",
       "      <td>0.270000</td>\n",
       "      <td>0.000000</td>\n",
       "    </tr>\n",
       "    <tr>\n",
       "      <th>25%</th>\n",
       "      <td>0.367667</td>\n",
       "      <td>0.003367</td>\n",
       "      <td>35.770000</td>\n",
       "      <td>31.090000</td>\n",
       "      <td>3.000000</td>\n",
       "      <td>1011.290000</td>\n",
       "      <td>3.660000</td>\n",
       "      <td>148.000000</td>\n",
       "      <td>9.420000</td>\n",
       "      <td>0.040000</td>\n",
       "    </tr>\n",
       "    <tr>\n",
       "      <th>50%</th>\n",
       "      <td>0.562333</td>\n",
       "      <td>0.004283</td>\n",
       "      <td>50.320000</td>\n",
       "      <td>50.320000</td>\n",
       "      <td>3.000000</td>\n",
       "      <td>1016.530000</td>\n",
       "      <td>5.930000</td>\n",
       "      <td>208.000000</td>\n",
       "      <td>10.000000</td>\n",
       "      <td>0.120000</td>\n",
       "    </tr>\n",
       "    <tr>\n",
       "      <th>75%</th>\n",
       "      <td>0.970250</td>\n",
       "      <td>0.083917</td>\n",
       "      <td>66.260000</td>\n",
       "      <td>66.260000</td>\n",
       "      <td>3.000000</td>\n",
       "      <td>1021.480000</td>\n",
       "      <td>8.940000</td>\n",
       "      <td>295.000000</td>\n",
       "      <td>10.000000</td>\n",
       "      <td>0.290000</td>\n",
       "    </tr>\n",
       "    <tr>\n",
       "      <th>max</th>\n",
       "      <td>14.714567</td>\n",
       "      <td>0.613883</td>\n",
       "      <td>93.720000</td>\n",
       "      <td>101.120000</td>\n",
       "      <td>17.000000</td>\n",
       "      <td>1042.460000</td>\n",
       "      <td>22.910000</td>\n",
       "      <td>359.000000</td>\n",
       "      <td>10.000000</td>\n",
       "      <td>1.000000</td>\n",
       "    </tr>\n",
       "  </tbody>\n",
       "</table>\n",
       "</div>"
      ],
      "text/plain": [
       "                 use            gen    temperature  apparentTemperature  \\\n",
       "count  503910.000000  503910.000000  503910.000000        503910.000000   \n",
       "mean        0.858962       0.076229      50.741935            48.263382   \n",
       "std         1.058207       0.128428      19.113807            22.027916   \n",
       "min         0.000000       0.000000     -12.640000           -32.080000   \n",
       "25%         0.367667       0.003367      35.770000            31.090000   \n",
       "50%         0.562333       0.004283      50.320000            50.320000   \n",
       "75%         0.970250       0.083917      66.260000            66.260000   \n",
       "max        14.714567       0.613883      93.720000           101.120000   \n",
       "\n",
       "             summary       pressure      windSpeed    windBearing  \\\n",
       "count  503910.000000  503910.000000  503910.000000  503910.000000   \n",
       "mean        5.201260    1016.301625       6.649936     202.356843   \n",
       "std         4.168663       7.895185       3.982716     106.520474   \n",
       "min         0.000000     986.400000       0.000000       0.000000   \n",
       "25%         3.000000    1011.290000       3.660000     148.000000   \n",
       "50%         3.000000    1016.530000       5.930000     208.000000   \n",
       "75%         3.000000    1021.480000       8.940000     295.000000   \n",
       "max        17.000000    1042.460000      22.910000     359.000000   \n",
       "\n",
       "          visibility     cloudCover  \n",
       "count  503910.000000  503910.000000  \n",
       "mean        9.253444       0.225945  \n",
       "std         1.611186       0.289945  \n",
       "min         0.270000       0.000000  \n",
       "25%         9.420000       0.040000  \n",
       "50%        10.000000       0.120000  \n",
       "75%        10.000000       0.290000  \n",
       "max        10.000000       1.000000  "
      ]
     },
     "execution_count": 27,
     "metadata": {},
     "output_type": "execute_result"
    }
   ],
   "source": [
    "# Check outliers\n",
    "df.describe()"
   ]
  },
  {
   "cell_type": "code",
   "execution_count": 18,
   "metadata": {},
   "outputs": [],
   "source": [
    "# Import libraries for modelling\n",
    "from sklearn.model_selection import train_test_split\n"
   ]
  },
  {
   "cell_type": "code",
   "execution_count": 19,
   "metadata": {},
   "outputs": [],
   "source": [
    "# Separate features and target variable\n",
    "X = df[['temperature', 'apparentTemperature', 'pressure', 'windSpeed', 'windBearing', 'visibility', 'cloudCover']]\n",
    "y = df['gen']\n",
    "\n",
    "# Split dataset into training set and test set\n",
    "X_train, X_test, y_train, y_test = train_test_split(X, y, test_size=.2, random_state=42)"
   ]
  },
  {
   "cell_type": "code",
   "execution_count": 30,
   "metadata": {},
   "outputs": [
    {
     "name": "stdout",
     "output_type": "stream",
     "text": [
      "Feature ranking:\n",
      "1. pressure (0.230941)\n",
      "2. windBearing (0.167403)\n",
      "3. windSpeed (0.156748)\n",
      "4. temperature (0.142732)\n",
      "5. apparentTemperature (0.123476)\n",
      "6. cloudCover (0.103189)\n",
      "7. visibility (0.075510)\n"
     ]
    }
   ],
   "source": [
    "# Features importance ranking using Random Forest\n",
    "from sklearn.ensemble import RandomForestRegressor as Rfr\n",
    "\n",
    "# Instantiate model with 100 decision trees\n",
    "rf = Rfr(n_estimators=100)\n",
    "\n",
    "# Train the model\n",
    "rf.fit(X_train, y_train)\n",
    "\n",
    "# Get the importance of the resulting features\n",
    "importances = rf.feature_importances_\n",
    "\n",
    "# Sort features by their importance\n",
    "indices = importances.argsort()[::-1]\n",
    "\n",
    "# Print the importance ranking of the features\n",
    "print(\"Feature ranking:\")\n",
    "for f in range(X_train.shape[1]):\n",
    "    print(\"%d. %s (%f)\" % (f + 1, X_train.columns[indices[f]], importances[indices[f]]))\n"
   ]
  },
  {
   "cell_type": "code",
   "execution_count": 31,
   "metadata": {},
   "outputs": [
    {
     "data": {
      "image/png": "[encoded data removed]",
      "text/plain": [
       "<Figure size 720x720 with 1 Axes>"
      ]
     },
     "metadata": {
      "needs_background": "light"
     },
     "output_type": "display_data"
    }
   ],
   "source": [
    "# Plot a graph for features importance\n",
    "plt.figure(figsize=(10,10))\n",
    "plt.title(\"Feature importances\")\n",
    "plt.bar(range(X_train.shape[1]), importances[indices], color=\"r\", align=\"center\")\n",
    "plt.xticks(range(X_train.shape[1]), X_train.columns[indices], rotation=90)\n",
    "\n",
    "plt.tight_layout()\n",
    "plt.show()"
   ]
  },
  {
   "cell_type": "code",
   "execution_count": 20,
   "metadata": {},
   "outputs": [],
   "source": [
    "# Model Construction\n",
    "# Train split remain same as features are all feasible\n",
    "# Classifier, Random Forest, Logistic, SVM, Arima (Check later)\n",
    "\n",
    "# X = df[['temperature', 'apparentTemperature', 'pressure', 'windSpeed', 'windBearing', 'visibility', 'cloudCover']]\n",
    "# y = df['gen']\n",
    "\n",
    "# Define models\n",
    "from sklearn.linear_model import LinearRegression\n",
    "from sklearn.svm import SVR\n",
    "from sklearn.ensemble import RandomForestRegressor as Rfr\n",
    "from sklearn.tree import DecisionTreeRegressor\n",
    "from sklearn.linear_model import LogisticRegression\n",
    "\n",
    "models = [Rfr(n_estimators=10),\n",
    "          Rfr(n_estimators=30),\n",
    "          Rfr(n_estimators=50),\n",
    "          DecisionTreeRegressor()]"
   ]
  },
  {
   "cell_type": "code",
   "execution_count": 21,
   "metadata": {},
   "outputs": [
    {
     "name": "stdout",
     "output_type": "stream",
     "text": [
      "\n",
      "Model name: RandomForestRegressor(n_estimators=10)\n",
      "---------------------\n",
      "MAE: 0.014165849430630616\n",
      "MSE: 0.0012006161102593787\n",
      "R2: 0.9269484908295222\n",
      "---------------------\n",
      "\n",
      "Model name: RandomForestRegressor(n_estimators=30)\n",
      "---------------------\n",
      "MAE: 0.014165745723415028\n",
      "MSE: 0.0011988377054399002\n",
      "R2: 0.9270566979032645\n",
      "---------------------\n",
      "\n",
      "Model name: RandomForestRegressor(n_estimators=50)\n",
      "---------------------\n",
      "MAE: 0.014160604549062232\n",
      "MSE: 0.0011996619272169398\n",
      "R2: 0.9270065481141775\n",
      "---------------------\n",
      "\n",
      "Model name: DecisionTreeRegressor()\n",
      "---------------------\n",
      "MAE: 0.014162491176120371\n",
      "MSE: 0.0011986909819694273\n",
      "R2: 0.9270656252955068\n",
      "---------------------\n"
     ]
    }
   ],
   "source": [
    "# To check MSE, MAE, R2 and do model selection\n",
    "\n",
    "best_mae = float('inf')\n",
    "best_mse = float('inf')\n",
    "best_r2 = float('-inf')\n",
    "\n",
    "for model in models:\n",
    "    model.fit(X_train, y_train)\n",
    "\n",
    "    # Make prediction on mae, mse, and r2\n",
    "    y_pred = model.predict(X_test)\n",
    "    mae = np.mean(abs(y_pred - y_test))\n",
    "    mse = np.mean((y_pred - y_test)**2)\n",
    "    r2 = model.score(X_test, y_test)\n",
    "\n",
    "    # Print model name and evaluation metrics\n",
    "    print('\\nModel name: {}'.format(model))\n",
    "    print('---------------------')\n",
    "    print('MAE: {}'.format(mae))\n",
    "    print('MSE: {}'.format(mse))\n",
    "    print('R2: {}'.format(r2))\n",
    "    print('---------------------')"
   ]
  },
  {
   "cell_type": "code",
   "execution_count": null,
   "metadata": {},
   "outputs": [],
   "source": [
    "from sklearn.model_selection import learning_curve\n",
    "\n",
    "# Define the learning curve function\n",
    "def plot_learning_curve(estimator, X, y, cv, train_sizes, title):\n",
    "    train_sizes, train_scores, test_scores = learning_curve(estimator, X, y, cv=cv, train_sizes=train_sizes)\n",
    "    \n",
    "    # Calculate the mean and standard deviation of training and test scores\n",
    "    train_scores_mean = np.mean(train_scores, axis=1)\n",
    "    train_scores_std = np.std(train_scores, axis=1)\n",
    "    test_scores_mean = np.mean(test_scores, axis=1)\n",
    "    test_scores_std = np.std(test_scores, axis=1)\n",
    "    \n",
    "    # Plot the learning curve\n",
    "    plt.figure()\n",
    "    plt.plot(train_sizes, train_scores_mean, 'o-', color='r', label='Training Score')\n",
    "    plt.plot(train_sizes, test_scores_mean, 'o-', color='g', label='Validation Score')\n",
    "    plt.fill_between(train_sizes, train_scores_mean - train_scores_std,\n",
    "                     train_scores_mean + train_scores_std, alpha=0.1, color='r')\n",
    "    plt.fill_between(train_sizes, test_scores_mean - test_scores_std,\n",
    "                     test_scores_mean + test_scores_std, alpha=0.1, color='g')\n",
    "    plt.xlabel('Training Set Size')\n",
    "    plt.ylabel('Score')\n",
    "    plt.title(title)\n",
    "    plt.legend(loc='best')\n",
    "    plt.grid(True)\n",
    "    plt.show()\n",
    "\n",
    "\n",
    "# Set the parameters for the learning curve\n",
    "cv = 5\n",
    "train_sizes = np.linspace(0.1, 1.0, 10)\n",
    "\n",
    "# Train and plot the learning curve for the old model\n",
    "old_model = Rfr(n_estimators = 10, criterion = 'squared_error', random_state = 1, n_jobs = -1)\n",
    "plot_learning_curve(old_model, X, y, cv, train_sizes, 'Original Model')"
   ]
  },
  {
   "cell_type": "code",
   "execution_count": 37,
   "metadata": {},
   "outputs": [
    {
     "ename": "KeyboardInterrupt",
     "evalue": "",
     "output_type": "error",
     "traceback": [
      "\u001b[1;31m---------------------------------------------------------------------------\u001b[0m",
      "\u001b[1;31mKeyboardInterrupt\u001b[0m                         Traceback (most recent call last)",
      "\u001b[1;32mc:\\Users\\User\\Desktop\\H2H\\train\\train.ipynb Cell 33\u001b[0m line \u001b[0;36m<cell line: 16>\u001b[1;34m()\u001b[0m\n\u001b[0;32m     <a href='vscode-notebook-cell:/c%3A/Users/User/Desktop/H2H/train/train.ipynb#X44sZmlsZQ%3D%3D?line=11'>12</a>\u001b[0m X_train, X_test, y_train, y_test \u001b[39m=\u001b[39m train_test_split(X_pol, y, test_size\u001b[39m=\u001b[39m\u001b[39m0.2\u001b[39m, random_state\u001b[39m=\u001b[39m\u001b[39m0\u001b[39m)\n\u001b[0;32m     <a href='vscode-notebook-cell:/c%3A/Users/User/Desktop/H2H/train/train.ipynb#X44sZmlsZQ%3D%3D?line=13'>14</a>\u001b[0m new_model \u001b[39m=\u001b[39m Rfr(n_estimators \u001b[39m=\u001b[39m \u001b[39m50\u001b[39m, criterion \u001b[39m=\u001b[39m \u001b[39m'\u001b[39m\u001b[39msquared_error\u001b[39m\u001b[39m'\u001b[39m, random_state \u001b[39m=\u001b[39m \u001b[39m1\u001b[39m, n_jobs \u001b[39m=\u001b[39m \u001b[39m-\u001b[39m\u001b[39m1\u001b[39m)\n\u001b[1;32m---> <a href='vscode-notebook-cell:/c%3A/Users/User/Desktop/H2H/train/train.ipynb#X44sZmlsZQ%3D%3D?line=15'>16</a>\u001b[0m model\u001b[39m.\u001b[39;49mfit(X_train, y_train)\n\u001b[0;32m     <a href='vscode-notebook-cell:/c%3A/Users/User/Desktop/H2H/train/train.ipynb#X44sZmlsZQ%3D%3D?line=17'>18</a>\u001b[0m \u001b[39m# Make predictions and evalute on mse, mae and r2\u001b[39;00m\n\u001b[0;32m     <a href='vscode-notebook-cell:/c%3A/Users/User/Desktop/H2H/train/train.ipynb#X44sZmlsZQ%3D%3D?line=18'>19</a>\u001b[0m y_pred \u001b[39m=\u001b[39m model\u001b[39m.\u001b[39mpredict(X_test)\n",
      "File \u001b[1;32mc:\\Users\\User\\AppData\\Local\\Programs\\Python\\Python310\\lib\\site-packages\\sklearn\\ensemble\\_forest.py:476\u001b[0m, in \u001b[0;36mBaseForest.fit\u001b[1;34m(self, X, y, sample_weight)\u001b[0m\n\u001b[0;32m    465\u001b[0m trees \u001b[39m=\u001b[39m [\n\u001b[0;32m    466\u001b[0m     \u001b[39mself\u001b[39m\u001b[39m.\u001b[39m_make_estimator(append\u001b[39m=\u001b[39m\u001b[39mFalse\u001b[39;00m, random_state\u001b[39m=\u001b[39mrandom_state)\n\u001b[0;32m    467\u001b[0m     \u001b[39mfor\u001b[39;00m i \u001b[39min\u001b[39;00m \u001b[39mrange\u001b[39m(n_more_estimators)\n\u001b[0;32m    468\u001b[0m ]\n\u001b[0;32m    470\u001b[0m \u001b[39m# Parallel loop: we prefer the threading backend as the Cython code\u001b[39;00m\n\u001b[0;32m    471\u001b[0m \u001b[39m# for fitting the trees is internally releasing the Python GIL\u001b[39;00m\n\u001b[0;32m    472\u001b[0m \u001b[39m# making threading more efficient than multiprocessing in\u001b[39;00m\n\u001b[0;32m    473\u001b[0m \u001b[39m# that case. However, for joblib 0.12+ we respect any\u001b[39;00m\n\u001b[0;32m    474\u001b[0m \u001b[39m# parallel_backend contexts set at a higher level,\u001b[39;00m\n\u001b[0;32m    475\u001b[0m \u001b[39m# since correctness does not rely on using threads.\u001b[39;00m\n\u001b[1;32m--> 476\u001b[0m trees \u001b[39m=\u001b[39m Parallel(\n\u001b[0;32m    477\u001b[0m     n_jobs\u001b[39m=\u001b[39;49m\u001b[39mself\u001b[39;49m\u001b[39m.\u001b[39;49mn_jobs,\n\u001b[0;32m    478\u001b[0m     verbose\u001b[39m=\u001b[39;49m\u001b[39mself\u001b[39;49m\u001b[39m.\u001b[39;49mverbose,\n\u001b[0;32m    479\u001b[0m     prefer\u001b[39m=\u001b[39;49m\u001b[39m\"\u001b[39;49m\u001b[39mthreads\u001b[39;49m\u001b[39m\"\u001b[39;49m,\n\u001b[0;32m    480\u001b[0m )(\n\u001b[0;32m    481\u001b[0m     delayed(_parallel_build_trees)(\n\u001b[0;32m    482\u001b[0m         t,\n\u001b[0;32m    483\u001b[0m         \u001b[39mself\u001b[39;49m\u001b[39m.\u001b[39;49mbootstrap,\n\u001b[0;32m    484\u001b[0m         X,\n\u001b[0;32m    485\u001b[0m         y,\n\u001b[0;32m    486\u001b[0m         sample_weight,\n\u001b[0;32m    487\u001b[0m         i,\n\u001b[0;32m    488\u001b[0m         \u001b[39mlen\u001b[39;49m(trees),\n\u001b[0;32m    489\u001b[0m         verbose\u001b[39m=\u001b[39;49m\u001b[39mself\u001b[39;49m\u001b[39m.\u001b[39;49mverbose,\n\u001b[0;32m    490\u001b[0m         class_weight\u001b[39m=\u001b[39;49m\u001b[39mself\u001b[39;49m\u001b[39m.\u001b[39;49mclass_weight,\n\u001b[0;32m    491\u001b[0m         n_samples_bootstrap\u001b[39m=\u001b[39;49mn_samples_bootstrap,\n\u001b[0;32m    492\u001b[0m     )\n\u001b[0;32m    493\u001b[0m     \u001b[39mfor\u001b[39;49;00m i, t \u001b[39min\u001b[39;49;00m \u001b[39menumerate\u001b[39;49m(trees)\n\u001b[0;32m    494\u001b[0m )\n\u001b[0;32m    496\u001b[0m \u001b[39m# Collect newly grown trees\u001b[39;00m\n\u001b[0;32m    497\u001b[0m \u001b[39mself\u001b[39m\u001b[39m.\u001b[39mestimators_\u001b[39m.\u001b[39mextend(trees)\n",
      "File \u001b[1;32mc:\\Users\\User\\AppData\\Local\\Programs\\Python\\Python310\\lib\\site-packages\\joblib\\parallel.py:1046\u001b[0m, in \u001b[0;36mParallel.__call__\u001b[1;34m(self, iterable)\u001b[0m\n\u001b[0;32m   1043\u001b[0m \u001b[39mif\u001b[39;00m \u001b[39mself\u001b[39m\u001b[39m.\u001b[39mdispatch_one_batch(iterator):\n\u001b[0;32m   1044\u001b[0m     \u001b[39mself\u001b[39m\u001b[39m.\u001b[39m_iterating \u001b[39m=\u001b[39m \u001b[39mself\u001b[39m\u001b[39m.\u001b[39m_original_iterator \u001b[39mis\u001b[39;00m \u001b[39mnot\u001b[39;00m \u001b[39mNone\u001b[39;00m\n\u001b[1;32m-> 1046\u001b[0m \u001b[39mwhile\u001b[39;00m \u001b[39mself\u001b[39;49m\u001b[39m.\u001b[39;49mdispatch_one_batch(iterator):\n\u001b[0;32m   1047\u001b[0m     \u001b[39mpass\u001b[39;00m\n\u001b[0;32m   1049\u001b[0m \u001b[39mif\u001b[39;00m pre_dispatch \u001b[39m==\u001b[39m \u001b[39m\"\u001b[39m\u001b[39mall\u001b[39m\u001b[39m\"\u001b[39m \u001b[39mor\u001b[39;00m n_jobs \u001b[39m==\u001b[39m \u001b[39m1\u001b[39m:\n\u001b[0;32m   1050\u001b[0m     \u001b[39m# The iterable was consumed all at once by the above for loop.\u001b[39;00m\n\u001b[0;32m   1051\u001b[0m     \u001b[39m# No need to wait for async callbacks to trigger to\u001b[39;00m\n\u001b[0;32m   1052\u001b[0m     \u001b[39m# consumption.\u001b[39;00m\n",
      "File \u001b[1;32mc:\\Users\\User\\AppData\\Local\\Programs\\Python\\Python310\\lib\\site-packages\\joblib\\parallel.py:861\u001b[0m, in \u001b[0;36mParallel.dispatch_one_batch\u001b[1;34m(self, iterator)\u001b[0m\n\u001b[0;32m    859\u001b[0m     \u001b[39mreturn\u001b[39;00m \u001b[39mFalse\u001b[39;00m\n\u001b[0;32m    860\u001b[0m \u001b[39melse\u001b[39;00m:\n\u001b[1;32m--> 861\u001b[0m     \u001b[39mself\u001b[39;49m\u001b[39m.\u001b[39;49m_dispatch(tasks)\n\u001b[0;32m    862\u001b[0m     \u001b[39mreturn\u001b[39;00m \u001b[39mTrue\u001b[39;00m\n",
      "File \u001b[1;32mc:\\Users\\User\\AppData\\Local\\Programs\\Python\\Python310\\lib\\site-packages\\joblib\\parallel.py:779\u001b[0m, in \u001b[0;36mParallel._dispatch\u001b[1;34m(self, batch)\u001b[0m\n\u001b[0;32m    777\u001b[0m \u001b[39mwith\u001b[39;00m \u001b[39mself\u001b[39m\u001b[39m.\u001b[39m_lock:\n\u001b[0;32m    778\u001b[0m     job_idx \u001b[39m=\u001b[39m \u001b[39mlen\u001b[39m(\u001b[39mself\u001b[39m\u001b[39m.\u001b[39m_jobs)\n\u001b[1;32m--> 779\u001b[0m     job \u001b[39m=\u001b[39m \u001b[39mself\u001b[39;49m\u001b[39m.\u001b[39;49m_backend\u001b[39m.\u001b[39;49mapply_async(batch, callback\u001b[39m=\u001b[39;49mcb)\n\u001b[0;32m    780\u001b[0m     \u001b[39m# A job can complete so quickly than its callback is\u001b[39;00m\n\u001b[0;32m    781\u001b[0m     \u001b[39m# called before we get here, causing self._jobs to\u001b[39;00m\n\u001b[0;32m    782\u001b[0m     \u001b[39m# grow. To ensure correct results ordering, .insert is\u001b[39;00m\n\u001b[0;32m    783\u001b[0m     \u001b[39m# used (rather than .append) in the following line\u001b[39;00m\n\u001b[0;32m    784\u001b[0m     \u001b[39mself\u001b[39m\u001b[39m.\u001b[39m_jobs\u001b[39m.\u001b[39minsert(job_idx, job)\n",
      "File \u001b[1;32mc:\\Users\\User\\AppData\\Local\\Programs\\Python\\Python310\\lib\\site-packages\\joblib\\_parallel_backends.py:208\u001b[0m, in \u001b[0;36mSequentialBackend.apply_async\u001b[1;34m(self, func, callback)\u001b[0m\n\u001b[0;32m    206\u001b[0m \u001b[39mdef\u001b[39;00m \u001b[39mapply_async\u001b[39m(\u001b[39mself\u001b[39m, func, callback\u001b[39m=\u001b[39m\u001b[39mNone\u001b[39;00m):\n\u001b[0;32m    207\u001b[0m \u001b[39m    \u001b[39m\u001b[39m\"\"\"Schedule a func to be run\"\"\"\u001b[39;00m\n\u001b[1;32m--> 208\u001b[0m     result \u001b[39m=\u001b[39m ImmediateResult(func)\n\u001b[0;32m    209\u001b[0m     \u001b[39mif\u001b[39;00m callback:\n\u001b[0;32m    210\u001b[0m         callback(result)\n",
      "File \u001b[1;32mc:\\Users\\User\\AppData\\Local\\Programs\\Python\\Python310\\lib\\site-packages\\joblib\\_parallel_backends.py:572\u001b[0m, in \u001b[0;36mImmediateResult.__init__\u001b[1;34m(self, batch)\u001b[0m\n\u001b[0;32m    569\u001b[0m \u001b[39mdef\u001b[39;00m \u001b[39m__init__\u001b[39m(\u001b[39mself\u001b[39m, batch):\n\u001b[0;32m    570\u001b[0m     \u001b[39m# Don't delay the application, to avoid keeping the input\u001b[39;00m\n\u001b[0;32m    571\u001b[0m     \u001b[39m# arguments in memory\u001b[39;00m\n\u001b[1;32m--> 572\u001b[0m     \u001b[39mself\u001b[39m\u001b[39m.\u001b[39mresults \u001b[39m=\u001b[39m batch()\n",
      "File \u001b[1;32mc:\\Users\\User\\AppData\\Local\\Programs\\Python\\Python310\\lib\\site-packages\\joblib\\parallel.py:262\u001b[0m, in \u001b[0;36mBatchedCalls.__call__\u001b[1;34m(self)\u001b[0m\n\u001b[0;32m    258\u001b[0m \u001b[39mdef\u001b[39;00m \u001b[39m__call__\u001b[39m(\u001b[39mself\u001b[39m):\n\u001b[0;32m    259\u001b[0m     \u001b[39m# Set the default nested backend to self._backend but do not set the\u001b[39;00m\n\u001b[0;32m    260\u001b[0m     \u001b[39m# change the default number of processes to -1\u001b[39;00m\n\u001b[0;32m    261\u001b[0m     \u001b[39mwith\u001b[39;00m parallel_backend(\u001b[39mself\u001b[39m\u001b[39m.\u001b[39m_backend, n_jobs\u001b[39m=\u001b[39m\u001b[39mself\u001b[39m\u001b[39m.\u001b[39m_n_jobs):\n\u001b[1;32m--> 262\u001b[0m         \u001b[39mreturn\u001b[39;00m [func(\u001b[39m*\u001b[39margs, \u001b[39m*\u001b[39m\u001b[39m*\u001b[39mkwargs)\n\u001b[0;32m    263\u001b[0m                 \u001b[39mfor\u001b[39;00m func, args, kwargs \u001b[39min\u001b[39;00m \u001b[39mself\u001b[39m\u001b[39m.\u001b[39mitems]\n",
      "File \u001b[1;32mc:\\Users\\User\\AppData\\Local\\Programs\\Python\\Python310\\lib\\site-packages\\joblib\\parallel.py:262\u001b[0m, in \u001b[0;36m<listcomp>\u001b[1;34m(.0)\u001b[0m\n\u001b[0;32m    258\u001b[0m \u001b[39mdef\u001b[39;00m \u001b[39m__call__\u001b[39m(\u001b[39mself\u001b[39m):\n\u001b[0;32m    259\u001b[0m     \u001b[39m# Set the default nested backend to self._backend but do not set the\u001b[39;00m\n\u001b[0;32m    260\u001b[0m     \u001b[39m# change the default number of processes to -1\u001b[39;00m\n\u001b[0;32m    261\u001b[0m     \u001b[39mwith\u001b[39;00m parallel_backend(\u001b[39mself\u001b[39m\u001b[39m.\u001b[39m_backend, n_jobs\u001b[39m=\u001b[39m\u001b[39mself\u001b[39m\u001b[39m.\u001b[39m_n_jobs):\n\u001b[1;32m--> 262\u001b[0m         \u001b[39mreturn\u001b[39;00m [func(\u001b[39m*\u001b[39margs, \u001b[39m*\u001b[39m\u001b[39m*\u001b[39mkwargs)\n\u001b[0;32m    263\u001b[0m                 \u001b[39mfor\u001b[39;00m func, args, kwargs \u001b[39min\u001b[39;00m \u001b[39mself\u001b[39m\u001b[39m.\u001b[39mitems]\n",
      "File \u001b[1;32mc:\\Users\\User\\AppData\\Local\\Programs\\Python\\Python310\\lib\\site-packages\\sklearn\\utils\\fixes.py:117\u001b[0m, in \u001b[0;36m_FuncWrapper.__call__\u001b[1;34m(self, *args, **kwargs)\u001b[0m\n\u001b[0;32m    115\u001b[0m \u001b[39mdef\u001b[39;00m \u001b[39m__call__\u001b[39m(\u001b[39mself\u001b[39m, \u001b[39m*\u001b[39margs, \u001b[39m*\u001b[39m\u001b[39m*\u001b[39mkwargs):\n\u001b[0;32m    116\u001b[0m     \u001b[39mwith\u001b[39;00m config_context(\u001b[39m*\u001b[39m\u001b[39m*\u001b[39m\u001b[39mself\u001b[39m\u001b[39m.\u001b[39mconfig):\n\u001b[1;32m--> 117\u001b[0m         \u001b[39mreturn\u001b[39;00m \u001b[39mself\u001b[39m\u001b[39m.\u001b[39mfunction(\u001b[39m*\u001b[39margs, \u001b[39m*\u001b[39m\u001b[39m*\u001b[39mkwargs)\n",
      "File \u001b[1;32mc:\\Users\\User\\AppData\\Local\\Programs\\Python\\Python310\\lib\\site-packages\\sklearn\\ensemble\\_forest.py:189\u001b[0m, in \u001b[0;36m_parallel_build_trees\u001b[1;34m(tree, bootstrap, X, y, sample_weight, tree_idx, n_trees, verbose, class_weight, n_samples_bootstrap)\u001b[0m\n\u001b[0;32m    186\u001b[0m     \u001b[39melif\u001b[39;00m class_weight \u001b[39m==\u001b[39m \u001b[39m\"\u001b[39m\u001b[39mbalanced_subsample\u001b[39m\u001b[39m\"\u001b[39m:\n\u001b[0;32m    187\u001b[0m         curr_sample_weight \u001b[39m*\u001b[39m\u001b[39m=\u001b[39m compute_sample_weight(\u001b[39m\"\u001b[39m\u001b[39mbalanced\u001b[39m\u001b[39m\"\u001b[39m, y, indices\u001b[39m=\u001b[39mindices)\n\u001b[1;32m--> 189\u001b[0m     tree\u001b[39m.\u001b[39;49mfit(X, y, sample_weight\u001b[39m=\u001b[39;49mcurr_sample_weight, check_input\u001b[39m=\u001b[39;49m\u001b[39mFalse\u001b[39;49;00m)\n\u001b[0;32m    190\u001b[0m \u001b[39melse\u001b[39;00m:\n\u001b[0;32m    191\u001b[0m     tree\u001b[39m.\u001b[39mfit(X, y, sample_weight\u001b[39m=\u001b[39msample_weight, check_input\u001b[39m=\u001b[39m\u001b[39mFalse\u001b[39;00m)\n",
      "File \u001b[1;32mc:\\Users\\User\\AppData\\Local\\Programs\\Python\\Python310\\lib\\site-packages\\sklearn\\tree\\_classes.py:1342\u001b[0m, in \u001b[0;36mDecisionTreeRegressor.fit\u001b[1;34m(self, X, y, sample_weight, check_input)\u001b[0m\n\u001b[0;32m   1313\u001b[0m \u001b[39mdef\u001b[39;00m \u001b[39mfit\u001b[39m(\u001b[39mself\u001b[39m, X, y, sample_weight\u001b[39m=\u001b[39m\u001b[39mNone\u001b[39;00m, check_input\u001b[39m=\u001b[39m\u001b[39mTrue\u001b[39;00m):\n\u001b[0;32m   1314\u001b[0m \u001b[39m    \u001b[39m\u001b[39m\"\"\"Build a decision tree regressor from the training set (X, y).\u001b[39;00m\n\u001b[0;32m   1315\u001b[0m \n\u001b[0;32m   1316\u001b[0m \u001b[39m    Parameters\u001b[39;00m\n\u001b[1;32m   (...)\u001b[0m\n\u001b[0;32m   1339\u001b[0m \u001b[39m        Fitted estimator.\u001b[39;00m\n\u001b[0;32m   1340\u001b[0m \u001b[39m    \"\"\"\u001b[39;00m\n\u001b[1;32m-> 1342\u001b[0m     \u001b[39msuper\u001b[39;49m()\u001b[39m.\u001b[39;49mfit(\n\u001b[0;32m   1343\u001b[0m         X,\n\u001b[0;32m   1344\u001b[0m         y,\n\u001b[0;32m   1345\u001b[0m         sample_weight\u001b[39m=\u001b[39;49msample_weight,\n\u001b[0;32m   1346\u001b[0m         check_input\u001b[39m=\u001b[39;49mcheck_input,\n\u001b[0;32m   1347\u001b[0m     )\n\u001b[0;32m   1348\u001b[0m     \u001b[39mreturn\u001b[39;00m \u001b[39mself\u001b[39m\n",
      "File \u001b[1;32mc:\\Users\\User\\AppData\\Local\\Programs\\Python\\Python310\\lib\\site-packages\\sklearn\\tree\\_classes.py:458\u001b[0m, in \u001b[0;36mBaseDecisionTree.fit\u001b[1;34m(self, X, y, sample_weight, check_input)\u001b[0m\n\u001b[0;32m    447\u001b[0m \u001b[39melse\u001b[39;00m:\n\u001b[0;32m    448\u001b[0m     builder \u001b[39m=\u001b[39m BestFirstTreeBuilder(\n\u001b[0;32m    449\u001b[0m         splitter,\n\u001b[0;32m    450\u001b[0m         min_samples_split,\n\u001b[1;32m   (...)\u001b[0m\n\u001b[0;32m    455\u001b[0m         \u001b[39mself\u001b[39m\u001b[39m.\u001b[39mmin_impurity_decrease,\n\u001b[0;32m    456\u001b[0m     )\n\u001b[1;32m--> 458\u001b[0m builder\u001b[39m.\u001b[39;49mbuild(\u001b[39mself\u001b[39;49m\u001b[39m.\u001b[39;49mtree_, X, y, sample_weight)\n\u001b[0;32m    460\u001b[0m \u001b[39mif\u001b[39;00m \u001b[39mself\u001b[39m\u001b[39m.\u001b[39mn_outputs_ \u001b[39m==\u001b[39m \u001b[39m1\u001b[39m \u001b[39mand\u001b[39;00m is_classifier(\u001b[39mself\u001b[39m):\n\u001b[0;32m    461\u001b[0m     \u001b[39mself\u001b[39m\u001b[39m.\u001b[39mn_classes_ \u001b[39m=\u001b[39m \u001b[39mself\u001b[39m\u001b[39m.\u001b[39mn_classes_[\u001b[39m0\u001b[39m]\n",
      "\u001b[1;31mKeyboardInterrupt\u001b[0m: "
     ]
    }
   ],
   "source": [
    "# # Optimizing the model\n",
    "# # Hyperparameter tuning\n",
    "# # Grid Search\n",
    "# from sklearn.model_selection import GridSearchCV\n",
    "\n",
    "# # PolynomialFeature\n",
    "# from sklearn.preprocessing import PolynomialFeatures\n",
    "\n",
    "# # Polynomial Solution\n",
    "# pol = PolynomialFeatures(degree=2)\n",
    "# X_pol = pol.fit_transform(X)\n",
    "# X_train, X_test, y_train, y_test = train_test_split(X_pol, y, test_size=0.2, random_state=0)\n",
    "\n",
    "# new_model = Rfr(n_estimators = 50, criterion = 'squared_error', random_state = 1, n_jobs = -1)\n",
    "\n",
    "# model.fit(X_train, y_train)\n",
    "\n",
    "# # Make predictions and evalute on mse, mae and r2\n",
    "# y_pred = model.predict(X_test)\n",
    "# mae = np.mean(abs(y_pred - y_test))\n",
    "# mse = np.mean((y_pred - y_test)**2)\n",
    "# r2 = model.score(X_test, y_test)\n",
    "\n",
    "# # Print model name and evaluation metrics\n",
    "# print('\\nModel name: {}'.format(model))\n",
    "# print('---------------------')\n",
    "# print('MAE: {}'.format(mae))\n",
    "# print('MSE: {}'.format(mse))\n",
    "# print('R2: {}'.format(r2))\n",
    "# print('---------------------')\n"
   ]
  },
  {
   "cell_type": "code",
   "execution_count": 39,
   "metadata": {},
   "outputs": [
    {
     "name": "stdout",
     "output_type": "stream",
     "text": [
      "\n",
      "Model name: RandomForestRegressor(n_estimators=10, n_jobs=-1, random_state=1)\n",
      "---------------------\n",
      "MAE: 0.014177202691482236\n",
      "MSE: 0.0012023925322187346\n",
      "R2: 0.9268404044029405\n",
      "---------------------\n"
     ]
    }
   ],
   "source": [
    "model = Rfr(n_estimators = 10, criterion = 'squared_error', random_state = 1, n_jobs = -1)\n",
    "\n",
    "model.fit(X_train, y_train)\n",
    "\n",
    "# Make predictions and evalute on mse, mae and r2\n",
    "y_pred = model.predict(X_test)\n",
    "mae = np.mean(abs(y_pred - y_test))\n",
    "mse = np.mean((y_pred - y_test)**2)\n",
    "r2 = model.score(X_test, y_test)\n",
    "\n",
    "# Print model name and evaluation metrics\n",
    "print('\\nModel name: {}'.format(model))\n",
    "print('---------------------')\n",
    "print('MAE: {}'.format(mae))\n",
    "print('MSE: {}'.format(mse))\n",
    "print('R2: {}'.format(r2))\n",
    "print('---------------------')"
   ]
  },
  {
   "cell_type": "code",
   "execution_count": 40,
   "metadata": {},
   "outputs": [
    {
     "data": {
      "text/html": [
       "<div>\n",
       "<style scoped>\n",
       "    .dataframe tbody tr th:only-of-type {\n",
       "        vertical-align: middle;\n",
       "    }\n",
       "\n",
       "    .dataframe tbody tr th {\n",
       "        vertical-align: top;\n",
       "    }\n",
       "\n",
       "    .dataframe thead th {\n",
       "        text-align: right;\n",
       "    }\n",
       "</style>\n",
       "<table border=\"1\" class=\"dataframe\">\n",
       "  <thead>\n",
       "    <tr style=\"text-align: right;\">\n",
       "      <th></th>\n",
       "      <th>Actual</th>\n",
       "      <th>Predicted</th>\n",
       "    </tr>\n",
       "  </thead>\n",
       "  <tbody>\n",
       "    <tr>\n",
       "      <th>391132</th>\n",
       "      <td>0.037933</td>\n",
       "      <td>0.029477</td>\n",
       "    </tr>\n",
       "    <tr>\n",
       "      <th>454552</th>\n",
       "      <td>0.006500</td>\n",
       "      <td>0.003851</td>\n",
       "    </tr>\n",
       "    <tr>\n",
       "      <th>241362</th>\n",
       "      <td>0.302250</td>\n",
       "      <td>0.300517</td>\n",
       "    </tr>\n",
       "    <tr>\n",
       "      <th>413167</th>\n",
       "      <td>0.004200</td>\n",
       "      <td>0.003974</td>\n",
       "    </tr>\n",
       "    <tr>\n",
       "      <th>58184</th>\n",
       "      <td>0.001633</td>\n",
       "      <td>0.003393</td>\n",
       "    </tr>\n",
       "    <tr>\n",
       "      <th>...</th>\n",
       "      <td>...</td>\n",
       "      <td>...</td>\n",
       "    </tr>\n",
       "    <tr>\n",
       "      <th>172994</th>\n",
       "      <td>0.003467</td>\n",
       "      <td>0.003464</td>\n",
       "    </tr>\n",
       "    <tr>\n",
       "      <th>363536</th>\n",
       "      <td>0.387233</td>\n",
       "      <td>0.384296</td>\n",
       "    </tr>\n",
       "    <tr>\n",
       "      <th>146417</th>\n",
       "      <td>0.032717</td>\n",
       "      <td>0.015327</td>\n",
       "    </tr>\n",
       "    <tr>\n",
       "      <th>218698</th>\n",
       "      <td>0.003150</td>\n",
       "      <td>0.003115</td>\n",
       "    </tr>\n",
       "    <tr>\n",
       "      <th>48485</th>\n",
       "      <td>0.003433</td>\n",
       "      <td>0.002945</td>\n",
       "    </tr>\n",
       "  </tbody>\n",
       "</table>\n",
       "<p>100782 rows × 2 columns</p>\n",
       "</div>"
      ],
      "text/plain": [
       "          Actual  Predicted\n",
       "391132  0.037933   0.029477\n",
       "454552  0.006500   0.003851\n",
       "241362  0.302250   0.300517\n",
       "413167  0.004200   0.003974\n",
       "58184   0.001633   0.003393\n",
       "...          ...        ...\n",
       "172994  0.003467   0.003464\n",
       "363536  0.387233   0.384296\n",
       "146417  0.032717   0.015327\n",
       "218698  0.003150   0.003115\n",
       "48485   0.003433   0.002945\n",
       "\n",
       "[100782 rows x 2 columns]"
      ]
     },
     "execution_count": 40,
     "metadata": {},
     "output_type": "execute_result"
    }
   ],
   "source": [
    "## Comparing the actual output and the predicted output\n",
    "\n",
    "ans = pd.DataFrame({'Actual': y_test, 'Predicted': y_pred})\n",
    "ans"
   ]
  },
  {
   "cell_type": "code",
   "execution_count": 41,
   "metadata": {},
   "outputs": [],
   "source": [
    "# model deploying\n",
    "import pickle\n",
    "\n",
    "# Save the model\n",
    "with open('weather_v1.pkl', 'wb') as file:\n",
    "    pickle.dump(model, file)"
   ]
  },
  {
   "cell_type": "code",
   "execution_count": 42,
   "metadata": {},
   "outputs": [
    {
     "data": {
      "text/html": [
       "<div>\n",
       "<style scoped>\n",
       "    .dataframe tbody tr th:only-of-type {\n",
       "        vertical-align: middle;\n",
       "    }\n",
       "\n",
       "    .dataframe tbody tr th {\n",
       "        vertical-align: top;\n",
       "    }\n",
       "\n",
       "    .dataframe thead th {\n",
       "        text-align: right;\n",
       "    }\n",
       "</style>\n",
       "<table border=\"1\" class=\"dataframe\">\n",
       "  <thead>\n",
       "    <tr style=\"text-align: right;\">\n",
       "      <th></th>\n",
       "      <th>Actual</th>\n",
       "      <th>Predicted</th>\n",
       "    </tr>\n",
       "  </thead>\n",
       "  <tbody>\n",
       "    <tr>\n",
       "      <th>391132</th>\n",
       "      <td>0.037933</td>\n",
       "      <td>0.029477</td>\n",
       "    </tr>\n",
       "    <tr>\n",
       "      <th>454552</th>\n",
       "      <td>0.006500</td>\n",
       "      <td>0.003851</td>\n",
       "    </tr>\n",
       "    <tr>\n",
       "      <th>241362</th>\n",
       "      <td>0.302250</td>\n",
       "      <td>0.300517</td>\n",
       "    </tr>\n",
       "    <tr>\n",
       "      <th>413167</th>\n",
       "      <td>0.004200</td>\n",
       "      <td>0.003974</td>\n",
       "    </tr>\n",
       "    <tr>\n",
       "      <th>58184</th>\n",
       "      <td>0.001633</td>\n",
       "      <td>0.003393</td>\n",
       "    </tr>\n",
       "    <tr>\n",
       "      <th>...</th>\n",
       "      <td>...</td>\n",
       "      <td>...</td>\n",
       "    </tr>\n",
       "    <tr>\n",
       "      <th>172994</th>\n",
       "      <td>0.003467</td>\n",
       "      <td>0.003464</td>\n",
       "    </tr>\n",
       "    <tr>\n",
       "      <th>363536</th>\n",
       "      <td>0.387233</td>\n",
       "      <td>0.384296</td>\n",
       "    </tr>\n",
       "    <tr>\n",
       "      <th>146417</th>\n",
       "      <td>0.032717</td>\n",
       "      <td>0.015327</td>\n",
       "    </tr>\n",
       "    <tr>\n",
       "      <th>218698</th>\n",
       "      <td>0.003150</td>\n",
       "      <td>0.003115</td>\n",
       "    </tr>\n",
       "    <tr>\n",
       "      <th>48485</th>\n",
       "      <td>0.003433</td>\n",
       "      <td>0.002945</td>\n",
       "    </tr>\n",
       "  </tbody>\n",
       "</table>\n",
       "<p>100782 rows × 2 columns</p>\n",
       "</div>"
      ],
      "text/plain": [
       "          Actual  Predicted\n",
       "391132  0.037933   0.029477\n",
       "454552  0.006500   0.003851\n",
       "241362  0.302250   0.300517\n",
       "413167  0.004200   0.003974\n",
       "58184   0.001633   0.003393\n",
       "...          ...        ...\n",
       "172994  0.003467   0.003464\n",
       "363536  0.387233   0.384296\n",
       "146417  0.032717   0.015327\n",
       "218698  0.003150   0.003115\n",
       "48485   0.003433   0.002945\n",
       "\n",
       "[100782 rows x 2 columns]"
      ]
     },
     "execution_count": 42,
     "metadata": {},
     "output_type": "execute_result"
    }
   ],
   "source": [
    "## Comparing the actual output and the predicted output with saved model\n",
    "\n",
    "with open('weather_v1.pkl', 'rb') as file:\n",
    "    model = pickle.load(file)\n",
    "\n",
    "# fit the model\n",
    "\n",
    "\n",
    "# Make predictions and evalute on mse, mae and r2\n",
    "ans = pd.DataFrame({'Actual': y_test, 'Predicted': model.predict(X_test)})\n",
    "ans\n"
   ]
  },
  {
   "cell_type": "code",
   "execution_count": 43,
   "metadata": {},
   "outputs": [
    {
     "name": "stdout",
     "output_type": "stream",
     "text": [
      "<class 'pandas.core.frame.DataFrame'>\n",
      "Int64Index: 503910 entries, 0 to 503909\n",
      "Data columns (total 10 columns):\n",
      " #   Column               Non-Null Count   Dtype  \n",
      "---  ------               --------------   -----  \n",
      " 0   use                  503910 non-null  float64\n",
      " 1   gen                  503910 non-null  float64\n",
      " 2   temperature          503910 non-null  float64\n",
      " 3   apparentTemperature  503910 non-null  float64\n",
      " 4   summary              503910 non-null  int32  \n",
      " 5   pressure             503910 non-null  float64\n",
      " 6   windSpeed            503910 non-null  float64\n",
      " 7   windBearing          503910 non-null  float64\n",
      " 8   visibility           503910 non-null  float64\n",
      " 9   cloudCover           503910 non-null  float64\n",
      "dtypes: float64(9), int32(1)\n",
      "memory usage: 40.4 MB\n"
     ]
    }
   ],
   "source": [
    "# show summary\n",
    "df.info()"
   ]
  },
  {
   "cell_type": "code",
   "execution_count": 30,
   "metadata": {},
   "outputs": [
    {
     "data": {
      "text/html": [
       "<div>\n",
       "<style scoped>\n",
       "    .dataframe tbody tr th:only-of-type {\n",
       "        vertical-align: middle;\n",
       "    }\n",
       "\n",
       "    .dataframe tbody tr th {\n",
       "        vertical-align: top;\n",
       "    }\n",
       "\n",
       "    .dataframe thead th {\n",
       "        text-align: right;\n",
       "    }\n",
       "</style>\n",
       "<table border=\"1\" class=\"dataframe\">\n",
       "  <thead>\n",
       "    <tr style=\"text-align: right;\">\n",
       "      <th></th>\n",
       "      <th>use</th>\n",
       "      <th>gen</th>\n",
       "      <th>temperature</th>\n",
       "      <th>apparentTemperature</th>\n",
       "      <th>summary</th>\n",
       "      <th>pressure</th>\n",
       "      <th>windSpeed</th>\n",
       "      <th>windBearing</th>\n",
       "      <th>visibility</th>\n",
       "      <th>cloudCover</th>\n",
       "    </tr>\n",
       "  </thead>\n",
       "  <tbody>\n",
       "    <tr>\n",
       "      <th>0</th>\n",
       "      <td>0.932833</td>\n",
       "      <td>0.003483</td>\n",
       "      <td>36.14</td>\n",
       "      <td>29.26</td>\n",
       "      <td>3</td>\n",
       "      <td>1016.91</td>\n",
       "      <td>9.18</td>\n",
       "      <td>282.0</td>\n",
       "      <td>10.0</td>\n",
       "      <td>0.75</td>\n",
       "    </tr>\n",
       "    <tr>\n",
       "      <th>1</th>\n",
       "      <td>0.934333</td>\n",
       "      <td>0.003467</td>\n",
       "      <td>36.14</td>\n",
       "      <td>29.26</td>\n",
       "      <td>3</td>\n",
       "      <td>1016.91</td>\n",
       "      <td>9.18</td>\n",
       "      <td>282.0</td>\n",
       "      <td>10.0</td>\n",
       "      <td>0.75</td>\n",
       "    </tr>\n",
       "    <tr>\n",
       "      <th>2</th>\n",
       "      <td>0.931817</td>\n",
       "      <td>0.003467</td>\n",
       "      <td>36.14</td>\n",
       "      <td>29.26</td>\n",
       "      <td>3</td>\n",
       "      <td>1016.91</td>\n",
       "      <td>9.18</td>\n",
       "      <td>282.0</td>\n",
       "      <td>10.0</td>\n",
       "      <td>0.75</td>\n",
       "    </tr>\n",
       "    <tr>\n",
       "      <th>3</th>\n",
       "      <td>1.022050</td>\n",
       "      <td>0.003483</td>\n",
       "      <td>36.14</td>\n",
       "      <td>29.26</td>\n",
       "      <td>3</td>\n",
       "      <td>1016.91</td>\n",
       "      <td>9.18</td>\n",
       "      <td>282.0</td>\n",
       "      <td>10.0</td>\n",
       "      <td>0.75</td>\n",
       "    </tr>\n",
       "    <tr>\n",
       "      <th>4</th>\n",
       "      <td>1.139400</td>\n",
       "      <td>0.003467</td>\n",
       "      <td>36.14</td>\n",
       "      <td>29.26</td>\n",
       "      <td>3</td>\n",
       "      <td>1016.91</td>\n",
       "      <td>9.18</td>\n",
       "      <td>282.0</td>\n",
       "      <td>10.0</td>\n",
       "      <td>0.75</td>\n",
       "    </tr>\n",
       "  </tbody>\n",
       "</table>\n",
       "</div>"
      ],
      "text/plain": [
       "        use       gen  temperature  apparentTemperature  summary  pressure  \\\n",
       "0  0.932833  0.003483        36.14                29.26        3   1016.91   \n",
       "1  0.934333  0.003467        36.14                29.26        3   1016.91   \n",
       "2  0.931817  0.003467        36.14                29.26        3   1016.91   \n",
       "3  1.022050  0.003483        36.14                29.26        3   1016.91   \n",
       "4  1.139400  0.003467        36.14                29.26        3   1016.91   \n",
       "\n",
       "   windSpeed  windBearing  visibility  cloudCover  \n",
       "0       9.18        282.0        10.0        0.75  \n",
       "1       9.18        282.0        10.0        0.75  \n",
       "2       9.18        282.0        10.0        0.75  \n",
       "3       9.18        282.0        10.0        0.75  \n",
       "4       9.18        282.0        10.0        0.75  "
      ]
     },
     "execution_count": 30,
     "metadata": {},
     "output_type": "execute_result"
    }
   ],
   "source": [
    "df.head()"
   ]
  },
  {
   "cell_type": "code",
   "execution_count": 45,
   "metadata": {},
   "outputs": [
    {
     "name": "stdout",
     "output_type": "stream",
     "text": [
      "Predicted gen: [0.00330899]\n"
     ]
    }
   ],
   "source": [
    "# Test the saved model\n",
    "\n",
    "# ask for input\n",
    "temperature = float(input('Enter temperature: '))\n",
    "apparentTemperature = float(input('Enter apparentTemperature: '))\n",
    "pressure = float(input('Enter pressure: '))\n",
    "windSpeed = float(input('Enter windSpeed: '))\n",
    "windBearing = float(input('Enter windBearing: '))\n",
    "visibility = float(input('Enter visibility: '))\n",
    "cloudCover = float(input('Enter cloudCover: '))\n",
    "\n",
    "user_input = [[temperature, apparentTemperature, pressure, windSpeed, windBearing, visibility, cloudCover]]\n",
    "\n",
    "# predict\n",
    "user_prediction = loaded_model.predict(user_input)\n",
    "\n",
    "# show prediction\n",
    "print('Predicted gen:', user_prediction)"
   ]
  },
  {
   "cell_type": "code",
   "execution_count": null,
   "metadata": {},
   "outputs": [],
   "source": []
  }
 ],
 "metadata": {
  "kernelspec": {
   "display_name": "Python 3",
   "language": "python",
   "name": "python3"
  },
  "language_info": {
   "codemirror_mode": {
    "name": "ipython",
    "version": 3
   },
   "file_extension": ".py",
   "mimetype": "text/x-python",
   "name": "python",
   "nbconvert_exporter": "python",
   "pygments_lexer": "ipython3",
   "version": "3.10.3"
  }
 },
 "nbformat": 4,
 "nbformat_minor": 2
}
